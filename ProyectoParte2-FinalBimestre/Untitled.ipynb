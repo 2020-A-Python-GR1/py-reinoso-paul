{
 "cells": [
  {
   "cell_type": "markdown",
   "metadata": {},
   "source": [
    "### Informe UFC\n",
    "\n",
    "### `DataSet UFC`\n",
    "\n",
    "#### Datos históricos de UFC-Fight de 1993 a 2019\n",
    "\n",
    "\n",
    "#### Información y estadísticas compiladas de lucha de UFC"
   ]
  },
  {
   "cell_type": "markdown",
   "metadata": {},
   "source": [
    "### Contexto\n",
    "\n",
    "\n",
    "#### `Contexto`\n",
    "\n",
    "Esta es una lista de todas las peleas de UFC en la historia de la organización. Cada fila contiene información sobre ambos luchadores, detalles de la pelea y el ganador. Los datos se extrajeron del sitio web de ufcstats. Después de que fightmetric dejó de existir, esto entró en escena. Vi que había mucha información en el sitio web sobre cada pelea y cada evento y no había formas existentes de capturar todo esto. Usé beautifulsoup para raspar los datos y pandas para procesarlos. Fue un proceso largo y arduo, perdone cualquier error. He proporcionado los archivos sin formato en caso de que alguien quiera procesarlos de manera diferente. Esta es la primera vez que creo un conjunto de datos, ¡cualquier sugerencia y corrección es bienvenida! En caso de que alguien quiera ver el trabajo, he subido todos los archivos de código, incluido el módulo de raspado aquí.\n",
    "\n",
    "\n",
    "#### `Contenido`\n",
    "\n",
    "Cada fila es una recopilación de las estadísticas de ambos luchadores. Los luchadores están representados por 'rojo' y 'azul' (para la esquina roja y azul). Entonces, por ejemplo, el luchador rojo tiene las estadísticas promedio cumplidas de todas las peleas excepto la actual. Las estadísticas incluyen el daño hecho por el luchador rojo al oponente y el daño hecho por el oponente al luchador (representado por 'opp' en las columnas) en todas las peleas que este luchador rojo en particular ha tenido, excepto esta, ya que no lo ha hecho. ocurrió todavía (en los datos). Existe la misma información para el caza azul. La variable de destino es 'Ganador', que es la única columna que le dice lo que sucedió.\n",
    "Aquí hay algunas definiciones de columna:\n",
    "\n",
    "\n",
    "\n",
    "\n",
    "Definiciones de columna:\n",
    "\n",
    "* `R_ y el B_` prefijo significa estadísticas de luchador de esquina roja y azul respectivamente\n",
    "* _opp_ Las columnas que contienen es el promedio de daño infligido por el oponente al luchador.\n",
    "\n",
    "* KD es el número de derribos\n",
    "* SIG_STRno es. de huelgas significativas 'aterrizadas o intentadas'\n",
    "* SIG_STR_pct es un porcentaje de huelgas significativo\n",
    "* TOTAL_STR es el total de ataques 'aterrizados o intentados'\n",
    "* TDno es. de derribos\n",
    "* TD_pct son porcentajes de eliminación\n",
    "* SUB_ATTno es. de intentos de sumisión\n",
    "* PASSno es. veces que se pasó la guardia?\n",
    "* REVes el no. de Reversiones aterrizó\n",
    "* HEADno es. de golpes significativos en la cabeza 'aterrizó o intentó'\n",
    "* BODYno es. de golpes significativos al cuerpo 'aterrizados o intentados'\n",
    "* CLINCHno es. de golpes significativos en el clinch 'aterrizó de intento'\n",
    "* GROUNDno es. de golpes significativos en el suelo 'aterrizados o intentados'\n",
    "* win_by es el método de ganar\n",
    "* last_round es la última ronda de la pelea (por ejemplo, si fue un KO en el 1er, entonces este será 1)\n",
    "* last_round_time es cuando la pelea terminó en el último asalto\n",
    "* Format es el formato de la pelea (3 rondas, 5 rondas, etc.)\n",
    "* Referee es el nombre de la Ref\n",
    "* date es la fecha de la pelea\n",
    "* location es el lugar en el que tuvo lugar el evento\n",
    "* Fight_type es qué categoría de peso y si es una pelea por el título o no\n",
    "* Winner es el ganador de la pelea\n",
    "* Stance es la postura del luchador (ortodoxo, zurdo, etc.)\n",
    "* Height_cms es la altura en centímetros\n",
    "* Reach_cms es el alcance del luchador (brazo) en centímetros\n",
    "* Weight_lbs es el peso del luchador en libras (lbs)\n",
    "* age es la edad del luchador\n",
    "* title_bout Valor booleano de si es una pelea por el título o no\n",
    "* weight_class es la clase de peso en la que se encuentra la pelea (peso gallo, peso pesado, peso mosca de las mujeres, etc.)\n",
    "* no_of_rounds es el número de rondas para las que estaba programada la pelea\n",
    "* current_lose_streak es el recuento de pérdidas concurrentes actuales del luchador\n",
    "* current_win_streak es el recuento de victorias simultáneas actuales del luchador\n",
    "* draw es el número de empates en la carrera de ufc del luchador\n",
    "* wins es el número de victorias en la carrera de ufc del luchador\n",
    "* losses es el número de derrotas en la carrera de ufc del luchador\n",
    "* total_rounds_fought es el promedio de rondas totales peleadas por el luchador\n",
    "* total_time_fought(seconds) es el recuento del tiempo total dedicado a luchar en segundos\n",
    "* total_title_bouts es el número total de combates por el título en los que participó el luchador\n",
    "* win_by_Decision_Majority es el número de victorias por decisión de los jueces mayoritarios en la carrera de ufc del luchador\n",
    "* win_by_Decision_Split es el número de victorias por decisión de los jueces divididos en la carrera de ufc del luchador\n",
    "* win_by_Decision_Unanimous es el número de victorias por decisión unánime de los jueces en la carrera de ufc del luchador\n",
    "* win_by_KO/TKO es el número de victorias por nocaut en la carrera de ufc del luchador\n",
    "* win_by_Submission es el número de victorias por sumisión en la carrera de ufc del luchador\n",
    "* win_by_TKO_Doctor_Stoppage es el número de victorias por paro médico en la carrera de ufc del luchador\n"
   ]
  },
  {
   "cell_type": "code",
   "execution_count": null,
   "metadata": {},
   "outputs": [],
   "source": []
  },
  {
   "cell_type": "code",
   "execution_count": 1,
   "metadata": {},
   "outputs": [],
   "source": [
    "#dataset\n",
    "#URL: https://www.kaggle.com/rajeevw/ufcdata?select=raw_total_fight_data.csv"
   ]
  },
  {
   "cell_type": "code",
   "execution_count": null,
   "metadata": {},
   "outputs": [],
   "source": []
  }
 ],
 "metadata": {
  "kernelspec": {
   "display_name": "Python 3",
   "language": "python",
   "name": "python3"
  },
  "language_info": {
   "codemirror_mode": {
    "name": "ipython",
    "version": 3
   },
   "file_extension": ".py",
   "mimetype": "text/x-python",
   "name": "python",
   "nbconvert_exporter": "python",
   "pygments_lexer": "ipython3",
   "version": "3.7.6"
  }
 },
 "nbformat": 4,
 "nbformat_minor": 4
}
