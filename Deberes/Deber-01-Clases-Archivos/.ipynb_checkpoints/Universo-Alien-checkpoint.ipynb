{
 "cells": [
  {
   "cell_type": "code",
   "execution_count": 1,
   "metadata": {},
   "outputs": [],
   "source": [
    "class Universo:\n",
    "    def __init__(self,nombre_universo,antiguedad_universo,tamanio_universo,temperatura_mas_abaja_universo,universo_primario):\n",
    "        self.nombre_universo=nombre_universo\n",
    "        self.antiguedad_universo=antiguedad_universo\n",
    "        self.tamanio_universo=tamanio_universo\n",
    "        self.temperatura_mas_abaja_universo=temperatura_mas_abaja_universo\n",
    "        self.universo_primario=universo_primario\n",
    "        self.universo=[]\n",
    "    \n",
    "    def __str__(self):\n",
    "        parte_uno=f\"{self.nombre_universo}\"\n",
    "        parte_dos=f\"{self.antiguedad_universo}\"\n",
    "        parte_tres=f\"{self.tamanio_universo}\"\n",
    "        parte_cuatro=f\"{self.temperatura_mas_abaja_universo}\"\n",
    "        parte_cinco=f\"{self.universo_primario}\"\n",
    "        return parte_uno+\",\"+parte_dos+\",\"+parte_tres+\",\"+parte_cuatro+\",\"+parte_cinco+\"\\n\"\n",
    "        \n",
    "        \n",
    "    def agregar_alien(self,raza,altura,peso,edad,ostilidad,nombre_universo):\n",
    "        if(nombre_universo==self.nombre_universo):\n",
    "            alien=Alien(raza,altura,peso,edad,ostilidad,nombre_universo)\n",
    "            self.universo.append(alien)\n",
    "        else:\n",
    "            print(\"\\n universon no existente\")\n",
    "                                \n",
    "    def buscar_alien(self,raza):\n",
    "        for i in range(len(self.universo)):\n",
    "            if (self.universo[i].raza==raza):\n",
    "                print(self.universo[i])\n",
    "                        "
   ]
  },
  {
   "cell_type": "code",
   "execution_count": 113,
   "metadata": {},
   "outputs": [],
   "source": [
    "class Alien:\n",
    "    def __init__(self,raza,altura,peso,edad,ostilidad,nombre_universo):\n",
    "        self.raza=raza\n",
    "        self.altura=altura\n",
    "        self.peso=peso\n",
    "        self.edad=edad\n",
    "        self.ostilidad=ostilidad\n",
    "        self.nombre_universo=nombre_universo\n",
    "    \n",
    "    def __str__(self):\n",
    "        parte_uno=f\"{self.raza}\"\n",
    "        parte_dos=f\"{self.altura}\"\n",
    "        parte_tres=f\"{self.peso}\"\n",
    "        parte_cuatro=f\"{self.edad}\"\n",
    "        parte_cinco=f\"{self.ostilidad}\"\n",
    "        parte_seis=f\"{self.nombre_universo}\"\n",
    "        return parte_uno+\",\"+parte_dos+\",\"+parte_tres+\",\"+parte_cuatro+\",\"+parte_cinco+\",\"+parte_seis+\"\\n\"        \n",
    "    "
   ]
  },
  {
   "cell_type": "code",
   "execution_count": 11,
   "metadata": {},
   "outputs": [
    {
     "name": "stdout",
     "output_type": "stream",
     "text": [
      "nombre Universo:universoA-32\n",
      "antiguedad Universo:55000\n",
      "tamanio Universo:234332.433\n",
      "Min Temperatura Universo:273.2\n",
      "Universo primario:True\n",
      "\n"
     ]
    }
   ],
   "source": [
    "uni=Universo(\"universoA-32\",55000,234332.433,273.2,True)\n",
    "print(uni)"
   ]
  },
  {
   "cell_type": "code",
   "execution_count": 12,
   "metadata": {},
   "outputs": [],
   "source": [
    "uni.agregar_alien(\"omicroniano\",2.23,50.4,25,False,\"universoA-32\")"
   ]
  },
  {
   "cell_type": "code",
   "execution_count": 11,
   "metadata": {},
   "outputs": [
    {
     "name": "stdout",
     "output_type": "stream",
     "text": [
      "raza alien:omicroniano\n",
      "altura Alien:2.23\n",
      "peso Alien:50.4\n",
      "edad Alien:25\n",
      "Ostilidad Alien:False\n",
      "Universo:universoA-32\n",
      "\n"
     ]
    }
   ],
   "source": [
    "uni.buscar_alien(\"omicroniano\")\n",
    "#print(uni.universo[0])\n",
    "#uni.universo.pop(0)"
   ]
  },
  {
   "cell_type": "code",
   "execution_count": 4,
   "metadata": {},
   "outputs": [
    {
     "ename": "NameError",
     "evalue": "name 'uni' is not defined",
     "output_type": "error",
     "traceback": [
      "\u001b[1;31m---------------------------------------------------------------------------\u001b[0m",
      "\u001b[1;31mNameError\u001b[0m                                 Traceback (most recent call last)",
      "\u001b[1;32m<ipython-input-4-a132cf5975d2>\u001b[0m in \u001b[0;36m<module>\u001b[1;34m\u001b[0m\n\u001b[1;32m----> 1\u001b[1;33m \u001b[0muni\u001b[0m\u001b[1;33m.\u001b[0m\u001b[0magregar_universo\u001b[0m\u001b[1;33m(\u001b[0m\u001b[1;34m\"universoA-554\"\u001b[0m\u001b[1;33m,\u001b[0m\u001b[1;36m55000\u001b[0m\u001b[1;33m,\u001b[0m\u001b[1;36m234332.433\u001b[0m\u001b[1;33m,\u001b[0m\u001b[1;36m273.2\u001b[0m\u001b[1;33m,\u001b[0m\u001b[1;32mTrue\u001b[0m\u001b[1;33m)\u001b[0m\u001b[1;33m;\u001b[0m\u001b[1;33m\u001b[0m\u001b[1;33m\u001b[0m\u001b[0m\n\u001b[0m",
      "\u001b[1;31mNameError\u001b[0m: name 'uni' is not defined"
     ]
    }
   ],
   "source": [
    "uni.agregar_universo(\"universoA-554\",55000,234332.433,273.2,True);"
   ]
  },
  {
   "cell_type": "code",
   "execution_count": 176,
   "metadata": {},
   "outputs": [],
   "source": [
    "#universo.txt\n",
    "class Control:    \n",
    "    \n",
    "# Metodo de creacion del universo    \n",
    "    \n",
    "    def agregar_universo (self,nombre_universo,\n",
    "                          antiguedad_universo,\n",
    "                          tamanio_universo,\n",
    "                          temperatura_mas_abaja_universo,\n",
    "                          universo_primario):        \n",
    "        \n",
    "        univrs=Universo(str(nombre_universo),\n",
    "                        int(antiguedad_universo),\n",
    "                        float(tamanio_universo),\n",
    "                        float(temperatura_mas_abaja_universo),\n",
    "                        bool(universo_primario))        \n",
    "        #datos=univrs        \n",
    "        try:\n",
    "            path = \"./universo.txt\"\n",
    "            archivo_abierto= open(path, \"a\")\n",
    "            archivo_abierto.write(str(univrs))\n",
    "            #archivo_abierto1= open(path)  lectura\n",
    "            #linea_uno=archivo_abierto1.readlines()\n",
    "            #print(f\"Archivo leido\\n {linea_uno}\")            \n",
    "            archivo_abierto.close()       \n",
    "        except Exception as Error:\n",
    "            print(\"Error leyendo Archivo\")\n",
    "            \n",
    "# Metodo de busqueda del universo            \n",
    "            \n",
    "    def buscar_universo(selff,nombre_universo):\n",
    "        cont=0\n",
    "        try:\n",
    "            path = \"./universo.txt\"\n",
    "            #archivo_abierto= open(path, \"a\")\n",
    "            #archivo_abierto.write(str(univrs))\n",
    "            archivo_abierto1= open(path)  #lectura\n",
    "            linea_uno=archivo_abierto1.readlines()\n",
    "            \n",
    "            for i in range(len(linea_uno)):\n",
    "                vector_temp=linea_uno[i].split(\",\") \n",
    "                if(vector_temp[0]==nombre_universo):                    \n",
    "                    return vector_temp                    \n",
    "                else:                    \n",
    "                    cont = cont + 1\n",
    "                    if(cont==len(linea_uno)):\n",
    "                        print(\"universo no existente\")                                                       \n",
    "            archivo_abierto1.close()\n",
    "        except Exception as Error:\n",
    "            print(\"Error leyendo Archivo\")\n",
    "\n",
    "# Metodo de edicion del universo            \n",
    "                    \n",
    "    def editar_universo(selff,\n",
    "                        nombre_universo,\n",
    "                        nombre_dato):\n",
    "        \n",
    "        etiqueta_dato=nombre_dato.split(\":\")\n",
    "        if (\"nombre Universo\"==etiqueta_dato[0]):\n",
    "            indice=0\n",
    "        elif (\"antiguedad Universo\"==etiqueta_dato[0]):\n",
    "            indice=1\n",
    "        elif (\"tamanio Universo\"==etiqueta_dato[0]):\n",
    "            indice=2\n",
    "        elif (\"Min Temperatura Universo\"==etiqueta_dato[0]):\n",
    "            indice=3\n",
    "        else:\n",
    "            indice=4                \n",
    "        #print(\"indices correctos\")\n",
    "        linea_elementos=[]\n",
    "        cont=0\n",
    "        try:\n",
    "            path = \"./universo.txt\"\n",
    "            archivo_abierto= open(path)  #lectura\n",
    "            linea_uno=archivo_abierto.readlines()            \n",
    "            for i in range(len(linea_uno)):\n",
    "                vector_temp=linea_uno[i].split(\",\") \n",
    "                if(vector_temp[0]==nombre_universo):\n",
    "                    if(indice==4):\n",
    "                        vector_temp[indice]=etiqueta_dato[1]+\"\\n\"\n",
    "                    else:\n",
    "                        vector_temp[indice]=etiqueta_dato[1]                \n",
    "                else:                    \n",
    "                    cont = cont + 1\n",
    "                    if(cont==len(linea_uno)):\n",
    "                        print(\"universo no existente\")                                \n",
    "                aux=(','.join(vector_temp))                \n",
    "                linea_elementos.append(aux)\n",
    "                        \n",
    "            archivo_abierto1= open(path,'w')            \n",
    "            archivo_abierto1.writelines(linea_elementos)                                                                \n",
    "            archivo_abierto1.close()\n",
    "        except Exception as Error:\n",
    "            print(\"Error leyendo Archivo\")                                                                \n",
    "\n",
    "# Metodo de eliminacion del universo\n",
    "                \n",
    "    def eliminar_universo(self,nombre_universo):\n",
    "        \n",
    "        linea_elementos=[]\n",
    "        cont=0\n",
    "        try:\n",
    "            path = \"./universo.txt\"\n",
    "            archivo_abierto= open(path)  #lectura\n",
    "            linea_uno=archivo_abierto.readlines()            \n",
    "            for i in range(len(linea_uno)):\n",
    "                vector_temp=linea_uno[i].split(\",\") \n",
    "                if(vector_temp[0]==nombre_universo):\n",
    "                    vector_temp=(\"\",\"\",\"\",\"\",\"\",\"\")\n",
    "                else:                    \n",
    "                    cont = cont + 1\n",
    "                    if(cont==len(linea_uno)):\n",
    "                        print(\"universo no existente\")                                \n",
    "                aux=(','.join(vector_temp))\n",
    "                #print(aux)\n",
    "                if(aux!=\",,,,,\"):                    \n",
    "                    linea_elementos.append(aux)\n",
    "                        \n",
    "            archivo_abierto1= open(path,'w')            \n",
    "            archivo_abierto1.writelines(linea_elementos)                                                                \n",
    "            archivo_abierto1.close()\n",
    "        except Exception as Error:\n",
    "            print(\"Error leyendo Archivo\")\n",
    "        \n",
    "        \n",
    "        controlA=Control_alien()\n",
    "        controlA.destruir_aliens_Universo(nombre_universo)\n",
    "        "
   ]
  },
  {
   "cell_type": "code",
   "execution_count": 181,
   "metadata": {},
   "outputs": [],
   "source": [
    "control=Control()"
   ]
  },
  {
   "cell_type": "code",
   "execution_count": 189,
   "metadata": {},
   "outputs": [],
   "source": [
    "#control.agregar_universo(\"universo-A-554\",55000,234332.433,273.2,True)\n",
    "#control.agregar_universo(\"universo-B-32\",5000,288332.4,211.21,False)\n",
    "control.agregar_universo(\"universo-M-82\",8349,56332.200,122.19,False)"
   ]
  },
  {
   "cell_type": "code",
   "execution_count": 100,
   "metadata": {},
   "outputs": [
    {
     "data": {
      "text/plain": [
       "['universo-M-82', '8349', '56332.2', '122.19', 'True']"
      ]
     },
     "execution_count": 100,
     "metadata": {},
     "output_type": "execute_result"
    }
   ],
   "source": [
    "control.buscar_universo(\"universo-M-82\")"
   ]
  },
  {
   "cell_type": "code",
   "execution_count": 102,
   "metadata": {},
   "outputs": [],
   "source": [
    "#menu\n"
   ]
  },
  {
   "cell_type": "code",
   "execution_count": 94,
   "metadata": {},
   "outputs": [
    {
     "name": "stdout",
     "output_type": "stream",
     "text": [
      "nombre Universo:universoA-32\n",
      "antiguedad Universo:55000\n",
      "tamanio Universo:234332.433\n",
      "Min Temperatura Universo:273.2\n",
      "Universo primario:True\n"
     ]
    }
   ],
   "source": [
    "print(\"nombre Universo:universoA-32\")\n",
    "print(\"antiguedad Universo:55000\")\n",
    "print(\"tamanio Universo:234332.433\")\n",
    "print(\"Min Temperatura Universo:273.2\")\n",
    "print(\"Universo primario:True\")\n",
    "\n",
    "#dato1=input(\"ingresa nombre del universo a modificar: \")\n",
    "\n",
    "#dato2=input(\"ingresa la modificacion: \")\n",
    "\n",
    "control.editar_universo(\"universo-M-82\",\"Universo primario:True\")"
   ]
  },
  {
   "cell_type": "code",
   "execution_count": 95,
   "metadata": {},
   "outputs": [
    {
     "name": "stdout",
     "output_type": "stream",
     "text": [
      ",,,,,\n",
      "universo-B-32,5000,288332.4,211.21,False\n",
      "\n",
      "universo-M-82,8349,56332.2,122.19,True\n"
     ]
    }
   ],
   "source": [
    "control.eliminar_universo(\"universoA-554\")"
   ]
  },
  {
   "cell_type": "code",
   "execution_count": 187,
   "metadata": {},
   "outputs": [],
   "source": [
    "#aliens.txt\n",
    "\n",
    "class Control_alien:\n",
    "    \n",
    "# Metodo de creacion de aliens\n",
    "    \n",
    "    def agregar_alien (self,raza,altura,peso,edad,ostilidad,nombre_universo):                                                    \n",
    "                          \n",
    "        alien=Alien(str(raza),\n",
    "                    float(altura),\n",
    "                    float(peso),\n",
    "                    int(edad),\n",
    "                    bool(ostilidad),\n",
    "                    str(nombre_universo))\n",
    "                \n",
    "        #datos=alien        \n",
    "        try:\n",
    "            path = \"./aliens.txt\"\n",
    "            archivo_abierto= open(path, \"a\")\n",
    "            archivo_abierto.write(str(alien))\n",
    "            #archivo_abierto1= open(path)  lectura\n",
    "            #linea_uno=archivo_abierto1.readlines()\n",
    "            #print(f\"Archivo leido\\n {linea_uno}\")            \n",
    "            archivo_abierto.close()       \n",
    "        except Exception as Error:\n",
    "            print(\"Error leyendo Archivo\")\n",
    "            \n",
    "# Metodo de busqueda del universo            \n",
    "            \n",
    "    def buscar_alien(selff,raza):\n",
    "        cont=0\n",
    "        try:\n",
    "            path = \"./aliens.txt\"\n",
    "            #archivo_abierto= open(path, \"a\")\n",
    "            #archivo_abierto.write(str(univrs))\n",
    "            archivo_abierto1= open(path)  #lectura\n",
    "            linea_uno=archivo_abierto1.readlines()\n",
    "            \n",
    "            for i in range(len(linea_uno)):\n",
    "                vector_temp=linea_uno[i].split(\",\") \n",
    "                if(vector_temp[0]==raza):                    \n",
    "                    return vector_temp                    \n",
    "                else:                    \n",
    "                    cont = cont + 1\n",
    "                    if(cont==len(linea_uno)):\n",
    "                        print(\"alien no existente\")                                                       \n",
    "            archivo_abierto1.close()\n",
    "        except Exception as Error:\n",
    "            print(\"Error leyendo Archivo\")\n",
    "\n",
    "# Metodo de edicion del alien            \n",
    "                    \n",
    "    def editar_alien(selff,\n",
    "                        raza,\n",
    "                        nombre_dato):\n",
    "        \n",
    "        etiqueta_dato=nombre_dato.split(\":\")\n",
    "        if (\"raza alien\"==etiqueta_dato[0]):\n",
    "            indice=0\n",
    "        elif (\"altura Alien\"==etiqueta_dato[0]):\n",
    "            indice=1\n",
    "        elif (\"peso Alien\"==etiqueta_dato[0]):\n",
    "            indice=2\n",
    "        elif (\"edad Alien\"==etiqueta_dato[0]):\n",
    "            indice=3\n",
    "        elif (\"Ostilidad\"==etiqueta_dato[0]):\n",
    "            indice=4\n",
    "        else:\n",
    "            indice=5\n",
    "        #print(\"indices correctos\")\n",
    "        linea_elementos=[]\n",
    "        cont=0\n",
    "        try:\n",
    "            path = \"./aliens.txt\"\n",
    "            archivo_abierto= open(path)  #lectura\n",
    "            linea_uno=archivo_abierto.readlines()            \n",
    "            for i in range(len(linea_uno)):\n",
    "                vector_temp=linea_uno[i].split(\",\") \n",
    "                if(vector_temp[0]==raza):\n",
    "                    if(indice==5):\n",
    "                        vector_temp[indice]=etiqueta_dato[1]+\"\\n\"\n",
    "                    else:\n",
    "                        vector_temp[indice]=etiqueta_dato[1]\n",
    "                else:                    \n",
    "                    cont = cont + 1\n",
    "                    if(cont==len(linea_uno)):\n",
    "                        print(\"aliens.txt no existente\")                                \n",
    "                aux=(','.join(vector_temp))                \n",
    "                linea_elementos.append(aux)\n",
    "                        \n",
    "            archivo_abierto1= open(path,'w')            \n",
    "            archivo_abierto1.writelines(linea_elementos)                                                                \n",
    "            archivo_abierto1.close()\n",
    "        except Exception as Error:\n",
    "            print(\"Error leyendo Archivo\")                                                                \n",
    "\n",
    "# Metodo de eliminacion del alien\n",
    "                \n",
    "    def eliminar_alien(self,raza):\n",
    "        \n",
    "        linea_elementos=[]\n",
    "        cont=0\n",
    "        try:\n",
    "            path = \"./aliens.txt\"\n",
    "            archivo_abierto = open(path)  #lectura\n",
    "            linea_uno=archivo_abierto.readlines()            \n",
    "            for i in range(len(linea_uno)):\n",
    "                vector_temp=linea_uno[i].split(\",\") \n",
    "                if(vector_temp[0]==raza):\n",
    "                    vector_temp=(\"\",\"\",\"\",\"\",\"\",\"\")\n",
    "                else:                    \n",
    "                    cont = cont + 1\n",
    "                    if(cont==len(linea_uno)):\n",
    "                        print(\"alien no existente\")                                \n",
    "                aux=(','.join(vector_temp))\n",
    "                #print(aux)\n",
    "                if(aux!=\",,,,,\"):                    \n",
    "                    linea_elementos.append(aux)\n",
    "                        \n",
    "            archivo_abierto1= open(path,'w')            \n",
    "            archivo_abierto1.writelines(linea_elementos)                                                                \n",
    "            archivo_abierto1.close()\n",
    "        except Exception as Error:\n",
    "            print(\"Error leyendo Archivo\")        \n",
    "        \n",
    "\n",
    "#  Metodo de eliminacion del alien (Si borranUniverso)\n",
    "        \n",
    "              \n",
    "    def destruir_aliens_Universo(self,nombre_universo):\n",
    "        \n",
    "        linea_elementos=[]\n",
    "        cont=0\n",
    "        try:\n",
    "            path = \"./aliens.txt\"\n",
    "            archivo_abierto = open(path)  #lectura\n",
    "            linea_uno=archivo_abierto.readlines()            \n",
    "            for i in range(len(linea_uno)):\n",
    "                vector_temp=linea_uno[i].split(\",\") \n",
    "                if(vector_temp[5]==nombre_universo+\"\\n\"):\n",
    "                    vector_temp=(\"\",\"\",\"\",\"\",\"\",\"\")\n",
    "                else:                    \n",
    "                    cont = cont + 1\n",
    "                    if(cont==len(linea_uno)):\n",
    "                        print(\"alien no existente\")                                \n",
    "                aux=(','.join(vector_temp))\n",
    "                #print(aux)\n",
    "                if(aux!=\",,,,,\"):                    \n",
    "                    linea_elementos.append(aux)\n",
    "                        \n",
    "            archivo_abierto1= open(path,'w')            \n",
    "            archivo_abierto1.writelines(linea_elementos)                                                                \n",
    "            archivo_abierto1.close()\n",
    "        except Exception as Error:\n",
    "            print(\"Error leyendo Archivo\")        \n",
    "                "
   ]
  },
  {
   "cell_type": "code",
   "execution_count": 188,
   "metadata": {},
   "outputs": [],
   "source": [
    "contolo_Alien=Control_alien()"
   ]
  },
  {
   "cell_type": "code",
   "execution_count": 168,
   "metadata": {},
   "outputs": [],
   "source": [
    "#contolo_Alien.agregar_alien(\"omicroniano\",2.23,50.4,25,False,\"universo-A-554\")\n",
    "#contolo_Alien.agregar_alien(\"draconiano\",2.50,60.5,20,False,\"universo-M-82\")\n",
    "#contolo_Alien.agregar_alien(\"Kitsune\",1.90,30.7,21,False,\"universo-B-32\")\n",
    "#contolo_Alien.agregar_alien(\"Lisovik\",2.45,44.2,22,False,\"universo-M-82\")"
   ]
  },
  {
   "cell_type": "code",
   "execution_count": 173,
   "metadata": {},
   "outputs": [
    {
     "data": {
      "text/plain": [
       "['draconiano', '2.5', '60.5', '20', 'False', 'universo-M-82\\n']"
      ]
     },
     "execution_count": 173,
     "metadata": {},
     "output_type": "execute_result"
    }
   ],
   "source": [
    "contolo_Alien.buscar_alien(\"draconiano\")"
   ]
  },
  {
   "cell_type": "code",
   "execution_count": 167,
   "metadata": {},
   "outputs": [
    {
     "name": "stdout",
     "output_type": "stream",
     "text": [
      "raza alien:omicroniano\n",
      "altura Alien:2.23\n",
      "peso Alien:50.4\n",
      "edad Alien:25\n",
      "Ostilidad Alien:False\n",
      "Universo:universoA-32\n"
     ]
    }
   ],
   "source": [
    "print(\"raza alien:omicroniano\")\n",
    "print(\"altura Alien:2.23\")\n",
    "print(\"peso Alien:50.4\")\n",
    "print(\"edad Alien:25\")\n",
    "print(\"Ostilidad Alien:False\")\n",
    "print(\"Universo:universoA-32\")\n",
    "\n",
    "\n",
    "#dato1=input(\"ingresa nombre del universo a modificar: \")\n",
    "\n",
    "#dato2=input(\"ingresa la modificacion: \")\n",
    "\n",
    "#control.editar_universo(\"universo-M-82\",\"Universo primario:True\")\n",
    "#contolo_Alien.eliminar_alien(\"Lisovik\")"
   ]
  },
  {
   "cell_type": "code",
   "execution_count": 190,
   "metadata": {},
   "outputs": [],
   "source": [
    "control.eliminar_universo(\"universo-M-82\")"
   ]
  },
  {
   "cell_type": "code",
   "execution_count": 192,
   "metadata": {},
   "outputs": [],
   "source": [
    "import sys"
   ]
  },
  {
   "cell_type": "code",
   "execution_count": null,
   "metadata": {},
   "outputs": [],
   "source": [
    "class Menu:\n",
    "    \n",
    "    def __init__(self):\n",
    "        #self.cuaderno=Cauaderno()\n",
    "        self.eleccines={\n",
    "            \"1\":self.agregar_un_universo,\n",
    "            #\"2\": \n",
    "            #\"3\":\n",
    "            #\"4\":\n",
    "            #\"5\":\n",
    "            \"6\": self.salir\n",
    "        }\n",
    "    \n",
    "    def mostrar_menu(self) :\n",
    "        print(\"\"\"        \n",
    "        Menu Universo\n",
    "\n",
    "1 Agregar un Universo\n",
    "2 Buscar un universo especifico\n",
    "3 Modificar un Universo\n",
    "4 Eliminar un universo\n",
    "5 Mostra todos los universos existentes\n",
    "6 salir                \n",
    "\"\"\")\n",
    "    \n",
    "    def run(self):\n",
    "                \n",
    "        while True:\n",
    "            self.mostrar_menu()\n",
    "            eleccion=input(\"Escribe una opcion: \")\n",
    "            accion=self.eleccion.get(eleccion)\n",
    "            if accion:\n",
    "                accion()\n",
    "            else:\n",
    "                print(\"{0} no es una eleccion valida\".format(eleccion))\n",
    "        \n",
    "    def agregar_un_universo(self):\n",
    "        print(\"CREACION UNIVERSO\")        \n",
    "        print(\"Ingresa la siguente informacion\")        \n",
    "        nombre_universo=input(\"Nombre universo: \")\n",
    "        antiguedad_universo=input(\"Antiguedad universo: \")\n",
    "        tamanio_universo=input(\"Tamanio universo: \")\n",
    "        temperatura_mas_abaja_universo=input(\"Min. temperatura universo: \")\n",
    "        universo_primario=input(\"El univrso es primario: \")\n",
    "        control=Control()\n",
    "        control.agregar_universo(nombre_universo,\n",
    "                                 antiguedad_universo,\n",
    "                                 tamanio_universo,\n",
    "                                 temperatura_mas_abaja_universo,\n",
    "                                 universo_primario)\n",
    "        \n",
    "        \n",
    "        \n",
    "    def salir(self):\n",
    "        print(\"Gracias por ingresar!\")\n",
    "        sys.exit(0)\n",
    "        \n",
    "        \n",
    "        \n",
    "    \n",
    "    \n",
    "    "
   ]
  },
  {
   "cell_type": "code",
   "execution_count": null,
   "metadata": {},
   "outputs": [],
   "source": [
    "m=Menu()\n",
    "m.run()"
   ]
  },
  {
   "cell_type": "code",
   "execution_count": null,
   "metadata": {},
   "outputs": [],
   "source": []
  }
 ],
 "metadata": {
  "kernelspec": {
   "display_name": "Python 3",
   "language": "python",
   "name": "python3"
  },
  "language_info": {
   "codemirror_mode": {
    "name": "ipython",
    "version": 3
   },
   "file_extension": ".py",
   "mimetype": "text/x-python",
   "name": "python",
   "nbconvert_exporter": "python",
   "pygments_lexer": "ipython3",
   "version": "3.7.6"
  }
 },
 "nbformat": 4,
 "nbformat_minor": 4
}
