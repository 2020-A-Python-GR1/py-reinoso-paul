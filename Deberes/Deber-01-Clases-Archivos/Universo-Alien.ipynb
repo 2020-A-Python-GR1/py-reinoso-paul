{
 "cells": [
  {
   "cell_type": "code",
   "execution_count": 14,
   "metadata": {},
   "outputs": [],
   "source": [
    "class Universo:\n",
    "    def __init__(self,nombre_universo,antiguedad_universo,tamanio_universo,temperatura_mas_abaja_universo,universo_primario):\n",
    "        self.nombre_universo=nombre_universo\n",
    "        self.antiguedad_universo=antiguedad_universo\n",
    "        self.tamanio_universo=tamanio_universo\n",
    "        self.temperatura_mas_abaja_universo=temperatura_mas_abaja_universo\n",
    "        self.universo_primario=universo_primario\n",
    "        self.universo=[]\n",
    "    \n",
    "    def __str__(self):\n",
    "        parte_uno=f\"nombre Universo:{self.nombre_universo}\\n\"\n",
    "        parte_dos=f\"antiguedad Universo:{self.antiguedad_universo}\\n\"\n",
    "        parte_tres=f\"tamanio Universo:{self.tamanio_universo}\\n\"\n",
    "        parte_cuatro=f\"Min Temperatura Universo:{self.temperatura_mas_abaja_universo}\\n\"\n",
    "        parte_cinco=f\"Universo primario:{self.universo_primario}\\n\"\n",
    "        return parte_uno+parte_dos+parte_tres+parte_cuatro+parte_cinco\n",
    "        \n",
    "        \n",
    "    def agregar_alien(self,raza,altura,peso,edad,ostilidad,nombre_universo):\n",
    "        if(nombre_universo==self.nombre_universo):\n",
    "            alien=Alien(raza,altura,peso,edad,ostilidad,nombre_universo)\n",
    "            self.universo.append(alien)\n",
    "        else:\n",
    "            print(\"\\n universon no existente\")\n",
    "    \n",
    "    \n",
    "    def agregar_universo (self,nombre_universo,\n",
    "                          antiguedad_universo,\n",
    "                          tamanio_universo,\n",
    "                          temperatura_mas_abaja_universo,\n",
    "                          universo_primario):\n",
    "        \n",
    "        univrs=Universo(nombre_universo,antiguedad_universo,tamanio_universo,temperatura_mas_abaja_universo,universo_primario)\n",
    "        datos_universo=[str(nombre_universo),str(antiguedad_universo),str(tamanio_universo),str(temperatura_mas_abaja_universo),str(universo_primario)]\n",
    "        try:\n",
    "            path = \"./uninerso.txt\"\n",
    "            archivo_abierto= open(path, \"a\")\n",
    "            for linea in datos_universo:                \n",
    "                archivo_abierto.write(linea)\n",
    "                #archivo_abierto.write(\"\\n\")\n",
    "                #archivo_abierto.close()\n",
    "            archivo_abierto.write(\"\\n\")        \n",
    "            linea_uno =archivo_abierto_.readlines()\n",
    "            print(f\"Archivo leido ><\\n {linea_uno}\")\n",
    "            archivo_abierto.close()\n",
    "        except Exception as Error:\n",
    "            print(\"Error leyendo Archivo\")\n",
    "            \n",
    "            \n",
    "                        \n",
    "    def buscar_alien(self,raza):\n",
    "        for i in range(len(self.universo)):\n",
    "            if (self.universo[i].raza==raza):\n",
    "                print(self.universo[i])\n",
    "                \n",
    "                \n",
    "                \n",
    "                \n",
    "                "
   ]
  },
  {
   "cell_type": "code",
   "execution_count": 10,
   "metadata": {},
   "outputs": [],
   "source": [
    "class Alien:\n",
    "    def __init__(self,raza,altura,peso,edad,ostilidad,nombre_universo):\n",
    "        self.raza=raza\n",
    "        self.altura=altura\n",
    "        self.peso=peso\n",
    "        self.edad=edad\n",
    "        self.ostilidad=ostilidad\n",
    "        self.nombre_universo=nombre_universo\n",
    "    \n",
    "    def __str__(self):\n",
    "        parte_uno=f\"raza alien:{self.raza}\\n\"\n",
    "        parte_dos=f\"altura Alien:{self.altura}\\n\"\n",
    "        parte_tres=f\"peso Alien:{self.peso}\\n\"\n",
    "        parte_cuatro=f\"edad Alien:{self.edad}\\n\"\n",
    "        parte_cinco=f\"Ostilidad Alien:{self.ostilidad}\\n\"\n",
    "        parte_seis=f\"Universo:{self.nombre_universo}\\n\"\n",
    "        return parte_uno+parte_dos+parte_tres+parte_cuatro+parte_cinco+parte_seis\n",
    "    "
   ]
  },
  {
   "cell_type": "code",
   "execution_count": 11,
   "metadata": {},
   "outputs": [
    {
     "name": "stdout",
     "output_type": "stream",
     "text": [
      "nombre Universo:universoA-32\n",
      "antiguedad Universo:55000\n",
      "tamanio Universo:234332.433\n",
      "Min Temperatura Universo:273.2\n",
      "Universo primario:True\n",
      "\n"
     ]
    }
   ],
   "source": [
    "uni=Universo(\"universoA-32\",55000,234332.433,273.2,True)\n",
    "print(uni)"
   ]
  },
  {
   "cell_type": "code",
   "execution_count": 12,
   "metadata": {},
   "outputs": [],
   "source": [
    "uni.agregar_alien(\"omicroniano\",2.23,50.4,25,False,\"universoA-32\")"
   ]
  },
  {
   "cell_type": "code",
   "execution_count": 11,
   "metadata": {},
   "outputs": [
    {
     "name": "stdout",
     "output_type": "stream",
     "text": [
      "raza alien:omicroniano\n",
      "altura Alien:2.23\n",
      "peso Alien:50.4\n",
      "edad Alien:25\n",
      "Ostilidad Alien:False\n",
      "Universo:universoA-32\n",
      "\n"
     ]
    }
   ],
   "source": [
    "uni.buscar_alien(\"omicroniano\")\n",
    "#print(uni.universo[0])\n",
    "#uni.universo.pop(0)"
   ]
  },
  {
   "cell_type": "code",
   "execution_count": 15,
   "metadata": {},
   "outputs": [
    {
     "name": "stdout",
     "output_type": "stream",
     "text": [
      "Error leyendo Archivo\n"
     ]
    }
   ],
   "source": [
    "uni.agregar_universo(\"universoA-554\",55000,234332.433,273.2,True);"
   ]
  },
  {
   "cell_type": "code",
   "execution_count": null,
   "metadata": {},
   "outputs": [],
   "source": []
  },
  {
   "cell_type": "code",
   "execution_count": null,
   "metadata": {},
   "outputs": [],
   "source": []
  },
  {
   "cell_type": "code",
   "execution_count": null,
   "metadata": {},
   "outputs": [],
   "source": []
  },
  {
   "cell_type": "code",
   "execution_count": null,
   "metadata": {},
   "outputs": [],
   "source": []
  },
  {
   "cell_type": "code",
   "execution_count": null,
   "metadata": {},
   "outputs": [],
   "source": []
  }
 ],
 "metadata": {
  "kernelspec": {
   "display_name": "Python 3",
   "language": "python",
   "name": "python3"
  },
  "language_info": {
   "codemirror_mode": {
    "name": "ipython",
    "version": 3
   },
   "file_extension": ".py",
   "mimetype": "text/x-python",
   "name": "python",
   "nbconvert_exporter": "python",
   "pygments_lexer": "ipython3",
   "version": "3.7.6"
  }
 },
 "nbformat": 4,
 "nbformat_minor": 4
}
