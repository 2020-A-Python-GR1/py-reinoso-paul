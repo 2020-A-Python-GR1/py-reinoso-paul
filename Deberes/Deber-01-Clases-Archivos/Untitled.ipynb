{
 "cells": [
  {
   "cell_type": "code",
   "execution_count": 1,
   "metadata": {},
   "outputs": [],
   "source": [
    "data = [\"Línea 1\", \"Línea 2\", \"Línea 3\", \"Línea 4\", \"Línea 5\",\"linea 6\"]"
   ]
  },
  {
   "cell_type": "code",
   "execution_count": 21,
   "metadata": {},
   "outputs": [
    {
     "name": "stdout",
     "output_type": "stream",
     "text": [
      "Archivo leido ><\n",
      " ['Línea 1\\n', 'Línea 2\\n', 'Línea 3\\n', 'Línea 4\\n', 'Línea 5\\n', 'linea 6\\n', 'Línea 1  \\n', 'Línea 2  \\n', 'Línea 3  \\n', 'Línea 4  \\n', 'Línea 5  \\n', 'linea 6\\n', 'Línea 1\\\\nLínea 2\\\\nLínea 3\\\\nLínea 4\\\\nLínea 5\\\\nlinea 6\\\\nLínea 1\\\\nLínea 2\\\\nLínea 3\\\\nLínea 4\\\\nLínea 5\\\\nlinea 6\\\\nLínea 1\\\\\\n', 'Línea 2\\\\\\n', 'Línea 3\\\\\\n', 'Línea 4\\\\\\n', 'Línea 5\\\\\\n', 'linea 6\\\\\\n', 'Línea 1\\\\\\n', 'Línea 2\\\\\\n', 'Línea 3\\\\\\n', 'Línea 4\\\\\\n', 'Línea 5\\\\\\n', 'linea 6\\\\\\n', 'Línea 1\\n', 'Línea 2\\n', 'Línea 3\\n', 'Línea 4\\n', 'Línea 5\\n', 'linea 6\\n', 'Línea 1\\n', 'Línea 2\\n', 'Línea 3\\n', 'Línea 4\\n', 'Línea 5\\n', 'linea 6\\n']\n",
      "<class 'list'>\n",
      "36\n"
     ]
    }
   ],
   "source": [
    "try:\n",
    "    path = \"./uninerso.txt\"\n",
    "    archivo_abierto_dos=open(path)       #2 metodos de escritura w->wrie  a->append    \n",
    "    archivo_abierto=open(path,'a') #->append        \n",
    "    for line in data:\n",
    "        archivo_abierto.write(line)\n",
    "        archivo_abierto.write(\"\"+\"\\n\")                        \n",
    "    linea_uno =archivo_abierto_dos.readlines()\n",
    "    print(f\"Archivo leido ><\\n {linea_uno}\")\n",
    "    print(type(linea_uno))\n",
    "    print(len(linea_uno))            \n",
    "    archivo_abierto.close()\n",
    "except Exception as Error:\n",
    "    print(\"Error leyendo Archivo\")"
   ]
  },
  {
   "cell_type": "code",
   "execution_count": 11,
   "metadata": {},
   "outputs": [
    {
     "name": "stdout",
     "output_type": "stream",
     "text": [
      "Archivo leido ><\n",
      " ['Línea 1\\n', 'Línea 2\\n', 'Línea 3\\n', 'Línea 4\\n', 'Línea 5\\n', 'linea 6\\n']\n",
      "<class 'list'>\n",
      "6\n",
      "5\n",
      "Línea 5\n",
      "\n"
     ]
    }
   ],
   "source": [
    "try:\n",
    "    path = \"./uninerso.txt\"\n",
    "    archivo_abierto_dos=open(path)       #2 metodos de escritura w->wrie  a->append                         \n",
    "    linea_uno =archivo_abierto_dos.readlines()\n",
    "    print(f\"Archivo leido ><\\n {linea_uno}\")\n",
    "    print(type(linea_uno))\n",
    "    print(len(linea_uno))  \n",
    "    for n in range(len(linea_uno)):        \n",
    "        if(\"Línea 5\\n\"==linea_uno[n]):\n",
    "            print(n+1)            \n",
    "            print(linea_uno[n])            \n",
    "    archivo_abierto.close()\n",
    "except Exception as Error:\n",
    "    print(\"Error leyendo Archivo\")"
   ]
  },
  {
   "cell_type": "code",
   "execution_count": 20,
   "metadata": {},
   "outputs": [
    {
     "name": "stdout",
     "output_type": "stream",
     "text": [
      "['Línea 1\\n', 'Línea 2\\n', 'Línea 3\\n', 'Línea 4\\n', 'Línea 5\\n', 'linea 6\\n', 'Línea 1  \\n', 'Línea 2  \\n', 'Línea 3  \\n', 'Línea 4  \\n', 'Línea 5  \\n', 'linea 6  \\n', 'Línea 1\\\\nLínea 2\\\\nLínea 3\\\\nLínea 4\\\\nLínea 5\\\\nlinea 6\\\\nLínea 1\\\\nLínea 2\\\\nLínea 3\\\\nLínea 4\\\\nLínea 5\\\\nlinea 6\\\\nLínea 1\\\\\\n', 'Línea 2\\\\\\n', 'Línea 3\\\\\\n', 'Línea 4\\\\\\n', 'Línea 5\\\\\\n', 'linea 6\\\\\\n', 'Línea 1\\\\\\n', 'Línea 2\\\\\\n', 'Línea 3\\\\\\n', 'Línea 4\\\\\\n', 'Línea 5\\\\\\n', 'linea 6\\\\\\n', 'Línea 1\\n', 'Línea 2\\n', 'Línea 3\\n', 'Línea 4\\n', 'Línea 5\\n', 'linea 6\\n']\n"
     ]
    }
   ],
   "source": [
    "print(linea_uno)"
   ]
  },
  {
   "cell_type": "code",
   "execution_count": null,
   "metadata": {},
   "outputs": [],
   "source": []
  }
 ],
 "metadata": {
  "kernelspec": {
   "display_name": "Python 3",
   "language": "python",
   "name": "python3"
  },
  "language_info": {
   "codemirror_mode": {
    "name": "ipython",
    "version": 3
   },
   "file_extension": ".py",
   "mimetype": "text/x-python",
   "name": "python",
   "nbconvert_exporter": "python",
   "pygments_lexer": "ipython3",
   "version": "3.7.6"
  }
 },
 "nbformat": 4,
 "nbformat_minor": 4
}
