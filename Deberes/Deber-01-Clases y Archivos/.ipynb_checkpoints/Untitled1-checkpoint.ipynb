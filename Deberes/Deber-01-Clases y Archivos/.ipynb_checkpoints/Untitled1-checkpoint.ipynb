{
 "cells": [
  {
   "cell_type": "code",
   "execution_count": 2,
   "metadata": {},
   "outputs": [
    {
     "name": "stdout",
     "output_type": "stream",
     "text": [
      "Archivo leido ><\n",
      " ['sdgaASFSF21421421']\n"
     ]
    }
   ],
   "source": [
    "        try:\n",
    "            path = \"./universos.txt\"\n",
    "            archivo_abierto_dos=open(path)       #2 metodos de escritura w->wrie  a->append    \n",
    "            archivo_abierto=open(path,'a') #->append            \n",
    "            archivo_abierto.write(\"\")\n",
    "            linea_uno =archivo_abierto_dos.readlines()\n",
    "            print(f\"Archivo leido ><\\n {linea_uno}\")\n",
    "            archivo_abierto.close()\n",
    "        except Exception as Error:\n",
    "            print(\"Error leyendo Archivo\")"
   ]
  },
  {
   "cell_type": "code",
   "execution_count": 19,
   "metadata": {},
   "outputs": [
    {
     "ename": "IndentationError",
     "evalue": "unexpected indent (<ipython-input-19-421a81c9c82e>, line 2)",
     "output_type": "error",
     "traceback": [
      "\u001b[1;36m  File \u001b[1;32m\"<ipython-input-19-421a81c9c82e>\"\u001b[1;36m, line \u001b[1;32m2\u001b[0m\n\u001b[1;33m    try:\u001b[0m\n\u001b[1;37m    ^\u001b[0m\n\u001b[1;31mIndentationError\u001b[0m\u001b[1;31m:\u001b[0m unexpected indent\n"
     ]
    }
   ],
   "source": [
    "data = [\"Línea 1\", \"Línea 2\", \"Línea 3\", \"Línea 4\", \"Línea 5\"]\n",
    "    try:\n",
    "        path = \"./universos.txt\"\n",
    "        archivo_abierto_dos=open(path)       #2 metodos de escritura w->wrie  a->append    \n",
    "        archivo_abierto=open(path,'a') #->append\n",
    "        for line in data:\n",
    "            archivo_abierto_dos.write(line)\n",
    "            archivo_abierto_dos.write(\"\\n\")                        \n",
    "        linea_uno =archivo_abierto_dos.readlines()\n",
    "        print(f\"Archivo leido ><\\n {linea_uno}\")\n",
    "        print(type(linea_uno))\n",
    "        print(len(linea_uno))            \n",
    "        archivo_abierto.close()\n",
    "    except Exception as Error:\n",
    "        print(\"Error leyendo Archivo\")"
   ]
  },
  {
   "cell_type": "code",
   "execution_count": null,
   "metadata": {},
   "outputs": [],
   "source": []
  }
 ],
 "metadata": {
  "kernelspec": {
   "display_name": "Python 3",
   "language": "python",
   "name": "python3"
  },
  "language_info": {
   "codemirror_mode": {
    "name": "ipython",
    "version": 3
   },
   "file_extension": ".py",
   "mimetype": "text/x-python",
   "name": "python",
   "nbconvert_exporter": "python",
   "pygments_lexer": "ipython3",
   "version": "3.7.6"
  }
 },
 "nbformat": 4,
 "nbformat_minor": 4
}
