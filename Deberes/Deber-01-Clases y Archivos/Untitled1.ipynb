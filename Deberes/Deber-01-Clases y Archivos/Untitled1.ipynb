{
 "cells": [
  {
   "cell_type": "code",
   "execution_count": 91,
   "metadata": {},
   "outputs": [
    {
     "name": "stdout",
     "output_type": "stream",
     "text": [
      "Error leyendo Archivo\n"
     ]
    }
   ],
   "source": [
    "        try:\n",
    "            path = \"./universo.txt\"\n",
    "            archivo_abierto_dos=open(path)       #2 metodos de escritura w->wrie  a->append    \n",
    "            archivo_abierto=open(path,'a') #->append            \n",
    "            archivo_abierto.write(\"\")\n",
    "            linea_uno =archivo_abierto_dos.readlines()\n",
    "            print(f\"Archivo leido ><\\n {linea_uno}\")\n",
    "            archivo_abierto.close()\n",
    "        except Exception as Error:\n",
    "            print(\"Error leyendo Archivo\")"
   ]
  },
  {
   "cell_type": "code",
   "execution_count": 82,
   "metadata": {},
   "outputs": [],
   "source": [
    "        "
   ]
  },
  {
   "cell_type": "code",
   "execution_count": 93,
   "metadata": {},
   "outputs": [
    {
     "name": "stdout",
     "output_type": "stream",
     "text": [
      "Error leyendo Archivo\n"
     ]
    }
   ],
   "source": [
    "try:\n",
    "    path = \"./uninerso.txt\"\n",
    "    archivo_abierto_dos=open(path)       #2 metodos de escritura w->wrie  a->append    \n",
    "    archivo_abierto=open(path,'a') #->append        \n",
    "    for line in data:\n",
    "        archivo_abierto.write(line)\n",
    "        archivo_abierto.write(\"\\n\")                        \n",
    "    linea_uno =archivo_abierto_dos.readlines()\n",
    "    print(f\"Archivo leido ><\\n {linea_uno}\")\n",
    "    print(type(linea_uno))\n",
    "    print(len(linea_uno))            \n",
    "    archivo_abierto.close()\n",
    "except Exception as Error:\n",
    "    print(\"Error leyendo Archivo\")"
   ]
  },
  {
   "cell_type": "code",
   "execution_count": 89,
   "metadata": {},
   "outputs": [
    {
     "name": "stdout",
     "output_type": "stream",
     "text": [
      "Error leyendo Archivo\n"
     ]
    }
   ],
   "source": [
    "try:\n",
    "    path = \"./uninerso2.txt\"\n",
    "    archivo_abierto_dos=open(path)       #2 metodos de escritura w->wrie  a->append                         \n",
    "    linea_uno =archivo_abierto_dos.readlines()\n",
    "    print(f\"Archivo leido ><\\n {linea_uno}\")\n",
    "    print(type(linea_uno))\n",
    "    print(len(linea_uno))  \n",
    "    for n in range(len(linea_uno)):\n",
    "        print(len(linea_uno))\n",
    "        if(\"Línea 5\\n\"==linea_uno[n]):\n",
    "            print(n+1)            \n",
    "            print(linea_uno[n])            \n",
    "    archivo_abierto.close()\n",
    "except Exception as Error:\n",
    "    print(\"Error leyendo Archivo\")"
   ]
  },
  {
   "cell_type": "code",
   "execution_count": null,
   "metadata": {},
   "outputs": [],
   "source": []
  }
 ],
 "metadata": {
  "kernelspec": {
   "display_name": "Python 3",
   "language": "python",
   "name": "python3"
  },
  "language_info": {
   "codemirror_mode": {
    "name": "ipython",
    "version": 3
   },
   "file_extension": ".py",
   "mimetype": "text/x-python",
   "name": "python",
   "nbconvert_exporter": "python",
   "pygments_lexer": "ipython3",
   "version": "3.7.6"
  }
 },
 "nbformat": 4,
 "nbformat_minor": 4
}
